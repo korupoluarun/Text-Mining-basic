{
 "cells": [
  {
   "cell_type": "markdown",
   "metadata": {},
   "source": [
    "## Crunch Text into Words"
   ]
  },
  {
   "cell_type": "code",
   "execution_count": 7,
   "metadata": {},
   "outputs": [],
   "source": [
    "import os\n",
    "\n",
    "os.getcwd()\n",
    "os.chdir(\"/Users/arunk/Box/Analytics talk series 2018/\")"
   ]
  },
  {
   "cell_type": "code",
   "execution_count": 20,
   "metadata": {},
   "outputs": [],
   "source": [
    "text_file = 'whatsapp_chat_en.txt'\n",
    "text_file2 = open(text_file, 'rt')\n",
    "text = text_file2.read()\n",
    "text_file2.close()"
   ]
  },
  {
   "cell_type": "code",
   "execution_count": 59,
   "metadata": {},
   "outputs": [
    {
     "name": "stdout",
     "output_type": "stream",
     "text": [
      "['14/10/2018,', '12:12', 'a.m.', '-', 'Person', '1:', 'Party', '@', '9?', '14/10/2018,', '12:12', 'a.m.', '-', 'Person', '1:', 'I', 'am', 'sponsoring', 'the', 'drinks', 'You', 'all', 'need', 'to', 'bring', 'in', 'Some', 'to', 'eat', '14/10/2018,', '12:12', 'a.m.', '-', 'Person', '1:', 'Sure', '14/10/2018,', '12:12', 'a.m.', '-', 'Person', '1:', 'Party', '@', '9?', '14/10/2018,', '12:12', 'a.m.', '-', 'Person', '1:', 'Setting', 'a', 'Barbecue', '14/10/2018,', '12:12', 'a.m.', '-', 'Person', '1:', 'You', 'will', 'miss', 'BBQ', '14/10/2018,', '12:12', 'a.m.', '-', 'Person', '1:', 'Buy', 'sparkling', 'wine', '14/10/2018,', '12:12', 'a.m.', '-', 'Person', '1:', 'PI', 'am', 'sponsoring', 'the', 'drinks', 'You', 'can', 'make', 'some', 'salads', '14/10/2018,', '12:12', 'a.m.', '-', 'Person', '1:', 'Setting', 'a', 'Barbecue', '14/10/2018,', '12:12', 'a.m.', '-', 'Person', '1:', 'You', 'will', 'miss', 'BBQ', '14/10/2018,', '12:12', 'a.m.', '-', 'Person', '1:', 'yes?', '14/10/2018,', '12:12', 'a.m.', '-', 'Person', '1:', 'Some', 'cheese?', '14/10/2018,', '12:13', 'a.m.', '-', 'Person', '1:', 'Have', 'some', 'left', 'but', 'can', 'you', 'Manage', 'to', 'bring', 'some', 'more', '14/10/2018,', '12:13', 'a.m.', '-', 'Person', '2:', 'Count', 'me', 'in', '14/10/2018,', '12:13', 'a.m.', '-', 'Person', '2:', 'Italian?', '14/10/2018,', '12:13', 'a.m.', '-', 'Person', '2:', 'Will', 'grab', 'some', 'Pizza', '14/10/2018,', '12:13', 'a.m.', '-', 'Person', '3:', 'Ok,', 'but', 'am', 'late', '14/10/2018,', '12:13', 'a.m.', '-', 'Person', '3:', 'Ok,', 'after', 'dinner', '14/10/2018,', '12:13', 'a.m.', '-', 'Person', '3:', 'Will', 'bring', 'to', 'drink', '14/10/2018,', '12:13', 'a.m.', '-', 'Person', '4:', 'I', 'can', 'help', 'early', '14/10/2018,', '12:13', 'a.m.', '-', 'Person', '4:', 'That', 'goes', '14/10/2018,', '12:13', 'a.m.', '-', 'Person', '4:', 'From', 'my', 'home?']\n"
     ]
    }
   ],
   "source": [
    "# Lets identify individual words\n",
    "words = text.split()\n",
    "print(words)"
   ]
  },
  {
   "cell_type": "code",
   "execution_count": 30,
   "metadata": {},
   "outputs": [
    {
     "name": "stdout",
     "output_type": "stream",
     "text": [
      "!\"#$%&'()*+,-./:;<=>?@[\\]^_`{|}~\n"
     ]
    }
   ],
   "source": [
    "# what are the list of string punctuations\n",
    "import string\n",
    "print(string.punctuation)"
   ]
  },
  {
   "cell_type": "code",
   "execution_count": 31,
   "metadata": {},
   "outputs": [],
   "source": [
    "# Summarize words using Custom functions and Customer functions\n",
    "from collections import counter"
   ]
  },
  {
   "cell_type": "code",
   "execution_count": 32,
   "metadata": {},
   "outputs": [],
   "source": [
    "# IF ELSE word count  function\n",
    "def count_words(text):                   \n",
    "    skips = [\".\", \", \", \":\", \";\", \"'\", '\"'] \n",
    "    for ch in skips: \n",
    "        text = text.replace(ch, \"\") \n",
    "    word_counts = {} \n",
    "    for word in text.split(\" \"): \n",
    "        if word in word_counts: \n",
    "            word_counts[word]+= 1 \n",
    "        else: \n",
    "            word_counts[word]= 1 \n",
    "    return word_counts "
   ]
  },
  {
   "cell_type": "code",
   "execution_count": 33,
   "metadata": {},
   "outputs": [
    {
     "data": {
      "text/plain": [
       "{'\\n14/10/20181212': 2,\n",
       " '\\n14/10/20181213': 1,\n",
       " '-': 22,\n",
       " '1': 13,\n",
       " '14/10/20181212': 1,\n",
       " '2': 3,\n",
       " '3': 3,\n",
       " '4': 3,\n",
       " '9?\\n14/10/20181212': 2,\n",
       " '@': 2,\n",
       " 'BBQ\\n14/10/20181212': 2,\n",
       " 'Barbecue\\n14/10/20181212': 2,\n",
       " 'Buy': 1,\n",
       " 'Count': 1,\n",
       " 'From': 1,\n",
       " 'Have': 1,\n",
       " 'I': 2,\n",
       " 'Italian?\\n14/10/20181213': 1,\n",
       " 'Manage': 1,\n",
       " 'Okafter': 1,\n",
       " 'Okbut': 1,\n",
       " 'PI': 1,\n",
       " 'Party': 2,\n",
       " 'Person': 22,\n",
       " 'Pizza\\n14/10/20181213': 1,\n",
       " 'Setting': 2,\n",
       " 'Some': 2,\n",
       " 'Sure\\n14/10/20181212': 1,\n",
       " 'That': 1,\n",
       " 'Will': 2,\n",
       " 'You': 4,\n",
       " 'a': 2,\n",
       " 'all': 1,\n",
       " 'am': 25,\n",
       " 'bring': 3,\n",
       " 'but': 1,\n",
       " 'can': 3,\n",
       " 'cheese?\\n14/10/20181213': 1,\n",
       " 'dinner\\n14/10/20181213': 1,\n",
       " 'drink\\n14/10/20181213': 1,\n",
       " 'drinks': 2,\n",
       " 'early\\n14/10/20181213': 1,\n",
       " 'eat': 1,\n",
       " 'goes\\n14/10/20181213': 1,\n",
       " 'grab': 1,\n",
       " 'help': 1,\n",
       " 'home?\\n': 1,\n",
       " 'in': 2,\n",
       " 'late\\n14/10/20181213': 1,\n",
       " 'left': 1,\n",
       " 'make': 1,\n",
       " 'me': 1,\n",
       " 'miss': 2,\n",
       " 'more\\n14/10/20181213': 1,\n",
       " 'my': 1,\n",
       " 'need': 1,\n",
       " 'salads\\n14/10/20181212': 1,\n",
       " 'some': 4,\n",
       " 'sparkling': 1,\n",
       " 'sponsoring': 2,\n",
       " 'the': 2,\n",
       " 'to': 4,\n",
       " 'will': 2,\n",
       " 'wine': 1,\n",
       " 'yes?\\n14/10/20181212': 1,\n",
       " 'you': 1}"
      ]
     },
     "execution_count": 33,
     "metadata": {},
     "output_type": "execute_result"
    }
   ],
   "source": [
    "count_words(text)"
   ]
  },
  {
   "cell_type": "code",
   "execution_count": 35,
   "metadata": {},
   "outputs": [],
   "source": [
    "# Use wour counter function\n",
    "def count_words_quick(text):      #counts word frequency using Counter from collections \n",
    "    text = text.lower() \n",
    "    skips = [\".\", \", \", \":\", \";\", \"'\", '\"'] \n",
    "    for ch in skips: \n",
    "        text = text.replace(ch, \"\") \n",
    "    word_counts = Counter(text.split(\" \")) \n",
    "    return word_counts "
   ]
  },
  {
   "cell_type": "code",
   "execution_count": 37,
   "metadata": {},
   "outputs": [],
   "source": [
    "count_words_unique = count_words_quick(text)"
   ]
  },
  {
   "cell_type": "code",
   "execution_count": 38,
   "metadata": {},
   "outputs": [
    {
     "name": "stdout",
     "output_type": "stream",
     "text": [
      "Counter({'am': 25, '-': 22, 'person': 22, '1': 13, 'some': 6, 'you': 5, 'to': 4, 'will': 4, 'bring': 3, 'can': 3, '2': 3, '3': 3, '4': 3, 'party': 2, '@': 2, '9?\\n14/10/20181212': 2, 'i': 2, 'sponsoring': 2, 'the': 2, 'drinks': 2, 'in': 2, '\\n14/10/20181212': 2, 'setting': 2, 'a': 2, 'barbecue\\n14/10/20181212': 2, 'miss': 2, 'bbq\\n14/10/20181212': 2, '14/10/20181212': 1, 'all': 1, 'need': 1, 'eat': 1, 'sure\\n14/10/20181212': 1, 'buy': 1, 'sparkling': 1, 'wine': 1, 'pi': 1, 'make': 1, 'salads\\n14/10/20181212': 1, 'yes?\\n14/10/20181212': 1, 'cheese?\\n14/10/20181213': 1, 'have': 1, 'left': 1, 'but': 1, 'manage': 1, 'more\\n14/10/20181213': 1, 'count': 1, 'me': 1, '\\n14/10/20181213': 1, 'italian?\\n14/10/20181213': 1, 'grab': 1, 'pizza\\n14/10/20181213': 1, 'okbut': 1, 'late\\n14/10/20181213': 1, 'okafter': 1, 'dinner\\n14/10/20181213': 1, 'drink\\n14/10/20181213': 1, 'help': 1, 'early\\n14/10/20181213': 1, 'that': 1, 'goes\\n14/10/20181213': 1, 'from': 1, 'my': 1, 'home?\\n': 1})\n"
     ]
    }
   ],
   "source": [
    "print(count_words_unique)"
   ]
  },
  {
   "cell_type": "code",
   "execution_count": 54,
   "metadata": {},
   "outputs": [],
   "source": [
    "import matplotlib.pyplot as plt"
   ]
  },
  {
   "cell_type": "code",
   "execution_count": 58,
   "metadata": {},
   "outputs": [
    {
     "data": {
      "image/png": "[encoded data removed]",
      "text/plain": [
       "<matplotlib.figure.Figure at 0x118eb7c50>"
      ]
     },
     "metadata": {},
     "output_type": "display_data"
    }
   ],
   "source": [
    "\n",
    "\n",
    "plt.bar(range(len(count_words_unique)), list(count_words_unique.values()))\n",
    "plt.xticks(range(len(count_words_unique)), list(count_words_unique.keys()))\n",
    "plt.show()"
   ]
  },
  {
   "cell_type": "code",
   "execution_count": null,
   "metadata": {},
   "outputs": [],
   "source": []
  }
 ],
 "metadata": {
  "kernelspec": {
   "display_name": "Python 3",
   "language": "python",
   "name": "python3"
  },
  "language_info": {
   "codemirror_mode": {
    "name": "ipython",
    "version": 3
   },
   "file_extension": ".py",
   "mimetype": "text/x-python",
   "name": "python",
   "nbconvert_exporter": "python",
   "pygments_lexer": "ipython3",
   "version": "3.6.4"
  }
 },
 "nbformat": 4,
 "nbformat_minor": 2
}
